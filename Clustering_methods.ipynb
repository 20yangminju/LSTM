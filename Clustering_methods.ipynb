{
  "nbformat": 4,
  "nbformat_minor": 0,
  "metadata": {
    "kernelspec": {
      "name": "python3",
      "display_name": "Python 3"
    },
    "language_info": {
      "codemirror_mode": {
        "name": "ipython",
        "version": 3
      },
      "file_extension": ".py",
      "mimetype": "text/x-python",
      "name": "python",
      "nbconvert_exporter": "python",
      "pygments_lexer": "ipython3",
      "version": "3.7.4"
    },
    "colab": {
      "provenance": [],
      "toc_visible": true,
      "include_colab_link": true
    },
    "accelerator": "GPU"
  },
  "cells": [
    {
      "cell_type": "markdown",
      "metadata": {
        "id": "view-in-github",
        "colab_type": "text"
      },
      "source": [
        "<a href=\"https://colab.research.google.com/github/YJPark0421/LSTM-Analytics-NASA-Battery-LTV-Prediction/blob/master/Clustering_methods.ipynb\" target=\"_parent\"><img src=\"https://colab.research.google.com/assets/colab-badge.svg\" alt=\"Open In Colab\"/></a>"
      ]
    },
    {
      "cell_type": "code",
      "metadata": {
        "id": "hlzCyjtg3cv4"
      },
      "source": [
        "%config IPCompleter.greedy=True\n",
        "\n",
        "\n",
        "from sklearn.cluster import KMeans, DBSCAN, MeanShift\n",
        "from sklearn import datasets\n",
        "from sklearn.manifold import TSNE\n",
        "from sklearn.mixture import GaussianMixture\n",
        "import matplotlib.pyplot as plt\n",
        "from pylab import plot, show\n",
        "from sklearn.decomposition import PCA\n",
        "from sklearn.ensemble import VotingClassifier\n",
        "from sklearn.metrics import silhouette_samples, silhouette_score\n",
        "import pandas as pd\n",
        "import numpy as np\n"
      ],
      "execution_count": null,
      "outputs": []
    },
    {
      "cell_type": "code",
      "metadata": {
        "id": "yM8X4Mw83cv_",
        "outputId": "f4e12a8f-b3c6-4d34-d24b-43479d2f74e1",
        "colab": {
          "base_uri": "https://localhost:8080/",
          "height": 255
        }
      },
      "source": [
        "arr = np.genfromtxt('/content/vector_rep_output.csv', delimiter=',')\n",
        "print(arr)\n",
        "print(len(arr), len(arr[0]))"
      ],
      "execution_count": null,
      "outputs": [
        {
          "output_type": "stream",
          "text": [
            "[[3.69524573e-26 1.00000000e+00 1.84731206e-22 ... 3.15887717e-27\n",
            "  1.82786217e-27 5.50352104e-28]\n",
            " [1.74266553e-23 1.00000000e+00 6.53908634e-20 ... 2.50076953e-24\n",
            "  1.58972532e-24 5.37011687e-25]\n",
            " [1.14476158e-23 1.00000000e+00 6.55092019e-20 ... 1.22336589e-24\n",
            "  7.44839163e-25 2.51727857e-25]\n",
            " ...\n",
            " [3.78713727e-10 1.10080086e-24 2.33978309e-10 ... 1.60006695e-18\n",
            "  8.70183561e-19 3.15314901e-18]\n",
            " [2.82612017e-10 1.04272189e-25 6.80687104e-11 ... 2.17759897e-19\n",
            "  1.08831106e-19 4.54370310e-19]\n",
            " [5.37993872e-10 1.26729449e-24 2.23878568e-10 ... 8.22149648e-19\n",
            "  4.01860859e-19 1.49879513e-18]]\n",
            "92 38\n"
          ],
          "name": "stdout"
        }
      ]
    },
    {
      "cell_type": "code",
      "metadata": {
        "id": "0bJJwtSi3cwb"
      },
      "source": [
        "def evaluate_kmeans():\n",
        "    max_score = -1\n",
        "    predicted_labels_final = []\n",
        "    clusters = 0\n",
        "    for i in range(2, 90):\n",
        "        model = KMeans(n_clusters=i)\n",
        "        model.fit(arr)\n",
        "        predicted_labels = model.predict(arr)\n",
        "        silhouette_avg = silhouette_score(arr, predicted_labels)\n",
        "        \n",
        "#         print (i)\n",
        "#         print (silhouette_avg)\n",
        "        if(max_score < silhouette_avg):\n",
        "            max_score = silhouette_avg\n",
        "            predicted_labels_final = predicted_labels\n",
        "            clusters = i\n",
        "    return max_score, predicted_labels_final, clusters"
      ],
      "execution_count": null,
      "outputs": []
    },
    {
      "cell_type": "code",
      "metadata": {
        "id": "k99PUlam3cwf"
      },
      "source": [
        "def evaluate_gmm():\n",
        "    max_score = -1\n",
        "    predicted_labels_final = []\n",
        "    clusters = 0\n",
        "    for i in range(2, 10):\n",
        "        gmm = GaussianMixture(n_components= i, init_params='kmeans')\n",
        "        gmm = gmm.fit(arr)\n",
        "        predicted_labels = gmm.predict(arr)\n",
        "        silhouette_avg = silhouette_score(arr, predicted_labels)\n",
        "        if(max_score < silhouette_avg):\n",
        "            max_score = silhouette_avg\n",
        "            predicted_labels_final = predicted_labels\n",
        "            clusters = i\n",
        "            \n",
        "    for i in range(2, 10):\n",
        "        gmm = GaussianMixture(n_components= i, init_params='random')\n",
        "        gmm = gmm.fit(arr)\n",
        "        predicted_labels = gmm.predict(arr)\n",
        "        silhouette_avg = silhouette_score(arr, predicted_labels)\n",
        "        if(max_score < silhouette_avg):\n",
        "            max_score = silhouette_avg\n",
        "            predicted_labels_final = predicted_labels\n",
        "            clusters = i\n",
        "            \n",
        "    return max_score, predicted_labels_final, clusters"
      ],
      "execution_count": null,
      "outputs": []
    },
    {
      "cell_type": "code",
      "metadata": {
        "id": "fLcY89Ty3cwk"
      },
      "source": [
        "def evaluate_dbscan():\n",
        "    max_score = -1\n",
        "    predicted_labels_final = []\n",
        "    clusters = 0\n",
        "    for i in range(1, 10000, 1):\n",
        "        for j in range(50, 200, 10):\n",
        "            eps = i*0.5\n",
        "            dbscan = DBSCAN(eps=i,min_samples=j)\n",
        "            dbscan.fit(arr)\n",
        "            predicted_labels = dbscan.labels_\n",
        "#             print (eps)\n",
        "#             print (j)\n",
        "#             print (predicted_labels)\n",
        "            \n",
        "            labels, count = np.unique(predicted_labels, return_counts= True)\n",
        "            if (len(labels) == 1):\n",
        "                continue\n",
        "            silhouette_avg = silhouette_score(arr, predicted_labels)\n",
        "            silhouette_avg\n",
        "            if(max_score < silhouette_avg):\n",
        "                max_score = silhouette_avg\n",
        "                predicted_labels_final = predicted_labels\n",
        "                clusters = labels\n",
        "                \n",
        "    return max_score, predicted_labels_final, clusters"
      ],
      "execution_count": null,
      "outputs": []
    },
    {
      "cell_type": "code",
      "metadata": {
        "id": "mfdt8aqn3cwo",
        "outputId": "be80cd49-01e6-4840-f910-ab42fe045d1b",
        "colab": {
          "base_uri": "https://localhost:8080/",
          "height": 1000
        }
      },
      "source": [
        "score_kmeans, predicted_label_kmeans, cluster_kmeans = evaluate_kmeans()"
      ],
      "execution_count": null,
      "outputs": [
        {
          "output_type": "stream",
          "text": [
            "/usr/local/lib/python3.6/dist-packages/sklearn/cluster/k_means_.py:972: ConvergenceWarning: Number of distinct clusters (11) found smaller than n_clusters (12). Possibly due to duplicate points in X.\n",
            "  return_n_iter=True)\n",
            "/usr/local/lib/python3.6/dist-packages/sklearn/cluster/k_means_.py:972: ConvergenceWarning: Number of distinct clusters (12) found smaller than n_clusters (13). Possibly due to duplicate points in X.\n",
            "  return_n_iter=True)\n",
            "/usr/local/lib/python3.6/dist-packages/sklearn/cluster/k_means_.py:972: ConvergenceWarning: Number of distinct clusters (13) found smaller than n_clusters (14). Possibly due to duplicate points in X.\n",
            "  return_n_iter=True)\n",
            "/usr/local/lib/python3.6/dist-packages/sklearn/cluster/k_means_.py:972: ConvergenceWarning: Number of distinct clusters (14) found smaller than n_clusters (15). Possibly due to duplicate points in X.\n",
            "  return_n_iter=True)\n",
            "/usr/local/lib/python3.6/dist-packages/sklearn/cluster/k_means_.py:972: ConvergenceWarning: Number of distinct clusters (15) found smaller than n_clusters (16). Possibly due to duplicate points in X.\n",
            "  return_n_iter=True)\n",
            "/usr/local/lib/python3.6/dist-packages/sklearn/cluster/k_means_.py:972: ConvergenceWarning: Number of distinct clusters (16) found smaller than n_clusters (17). Possibly due to duplicate points in X.\n",
            "  return_n_iter=True)\n",
            "/usr/local/lib/python3.6/dist-packages/sklearn/cluster/k_means_.py:972: ConvergenceWarning: Number of distinct clusters (17) found smaller than n_clusters (18). Possibly due to duplicate points in X.\n",
            "  return_n_iter=True)\n",
            "/usr/local/lib/python3.6/dist-packages/sklearn/cluster/k_means_.py:972: ConvergenceWarning: Number of distinct clusters (18) found smaller than n_clusters (19). Possibly due to duplicate points in X.\n",
            "  return_n_iter=True)\n",
            "/usr/local/lib/python3.6/dist-packages/sklearn/cluster/k_means_.py:972: ConvergenceWarning: Number of distinct clusters (19) found smaller than n_clusters (20). Possibly due to duplicate points in X.\n",
            "  return_n_iter=True)\n",
            "/usr/local/lib/python3.6/dist-packages/sklearn/cluster/k_means_.py:972: ConvergenceWarning: Number of distinct clusters (20) found smaller than n_clusters (21). Possibly due to duplicate points in X.\n",
            "  return_n_iter=True)\n",
            "/usr/local/lib/python3.6/dist-packages/sklearn/cluster/k_means_.py:972: ConvergenceWarning: Number of distinct clusters (20) found smaller than n_clusters (22). Possibly due to duplicate points in X.\n",
            "  return_n_iter=True)\n",
            "/usr/local/lib/python3.6/dist-packages/sklearn/cluster/k_means_.py:972: ConvergenceWarning: Number of distinct clusters (22) found smaller than n_clusters (23). Possibly due to duplicate points in X.\n",
            "  return_n_iter=True)\n",
            "/usr/local/lib/python3.6/dist-packages/sklearn/cluster/k_means_.py:972: ConvergenceWarning: Number of distinct clusters (23) found smaller than n_clusters (24). Possibly due to duplicate points in X.\n",
            "  return_n_iter=True)\n",
            "/usr/local/lib/python3.6/dist-packages/sklearn/cluster/k_means_.py:972: ConvergenceWarning: Number of distinct clusters (26) found smaller than n_clusters (27). Possibly due to duplicate points in X.\n",
            "  return_n_iter=True)\n",
            "/usr/local/lib/python3.6/dist-packages/sklearn/cluster/k_means_.py:972: ConvergenceWarning: Number of distinct clusters (28) found smaller than n_clusters (29). Possibly due to duplicate points in X.\n",
            "  return_n_iter=True)\n",
            "/usr/local/lib/python3.6/dist-packages/sklearn/cluster/k_means_.py:972: ConvergenceWarning: Number of distinct clusters (29) found smaller than n_clusters (30). Possibly due to duplicate points in X.\n",
            "  return_n_iter=True)\n",
            "/usr/local/lib/python3.6/dist-packages/sklearn/cluster/k_means_.py:972: ConvergenceWarning: Number of distinct clusters (30) found smaller than n_clusters (31). Possibly due to duplicate points in X.\n",
            "  return_n_iter=True)\n",
            "/usr/local/lib/python3.6/dist-packages/sklearn/cluster/k_means_.py:972: ConvergenceWarning: Number of distinct clusters (31) found smaller than n_clusters (32). Possibly due to duplicate points in X.\n",
            "  return_n_iter=True)\n",
            "/usr/local/lib/python3.6/dist-packages/sklearn/cluster/k_means_.py:972: ConvergenceWarning: Number of distinct clusters (31) found smaller than n_clusters (33). Possibly due to duplicate points in X.\n",
            "  return_n_iter=True)\n",
            "/usr/local/lib/python3.6/dist-packages/sklearn/cluster/k_means_.py:972: ConvergenceWarning: Number of distinct clusters (32) found smaller than n_clusters (34). Possibly due to duplicate points in X.\n",
            "  return_n_iter=True)\n",
            "/usr/local/lib/python3.6/dist-packages/sklearn/cluster/k_means_.py:972: ConvergenceWarning: Number of distinct clusters (33) found smaller than n_clusters (35). Possibly due to duplicate points in X.\n",
            "  return_n_iter=True)\n",
            "/usr/local/lib/python3.6/dist-packages/sklearn/cluster/k_means_.py:972: ConvergenceWarning: Number of distinct clusters (34) found smaller than n_clusters (36). Possibly due to duplicate points in X.\n",
            "  return_n_iter=True)\n",
            "/usr/local/lib/python3.6/dist-packages/sklearn/cluster/k_means_.py:972: ConvergenceWarning: Number of distinct clusters (36) found smaller than n_clusters (37). Possibly due to duplicate points in X.\n",
            "  return_n_iter=True)\n",
            "/usr/local/lib/python3.6/dist-packages/sklearn/cluster/k_means_.py:972: ConvergenceWarning: Number of distinct clusters (37) found smaller than n_clusters (38). Possibly due to duplicate points in X.\n",
            "  return_n_iter=True)\n",
            "/usr/local/lib/python3.6/dist-packages/sklearn/cluster/k_means_.py:972: ConvergenceWarning: Number of distinct clusters (37) found smaller than n_clusters (39). Possibly due to duplicate points in X.\n",
            "  return_n_iter=True)\n",
            "/usr/local/lib/python3.6/dist-packages/sklearn/cluster/k_means_.py:972: ConvergenceWarning: Number of distinct clusters (39) found smaller than n_clusters (40). Possibly due to duplicate points in X.\n",
            "  return_n_iter=True)\n",
            "/usr/local/lib/python3.6/dist-packages/sklearn/cluster/k_means_.py:972: ConvergenceWarning: Number of distinct clusters (42) found smaller than n_clusters (43). Possibly due to duplicate points in X.\n",
            "  return_n_iter=True)\n",
            "/usr/local/lib/python3.6/dist-packages/sklearn/cluster/k_means_.py:972: ConvergenceWarning: Number of distinct clusters (42) found smaller than n_clusters (44). Possibly due to duplicate points in X.\n",
            "  return_n_iter=True)\n",
            "/usr/local/lib/python3.6/dist-packages/sklearn/cluster/k_means_.py:972: ConvergenceWarning: Number of distinct clusters (43) found smaller than n_clusters (45). Possibly due to duplicate points in X.\n",
            "  return_n_iter=True)\n",
            "/usr/local/lib/python3.6/dist-packages/sklearn/cluster/k_means_.py:972: ConvergenceWarning: Number of distinct clusters (44) found smaller than n_clusters (46). Possibly due to duplicate points in X.\n",
            "  return_n_iter=True)\n",
            "/usr/local/lib/python3.6/dist-packages/sklearn/cluster/k_means_.py:972: ConvergenceWarning: Number of distinct clusters (46) found smaller than n_clusters (47). Possibly due to duplicate points in X.\n",
            "  return_n_iter=True)\n",
            "/usr/local/lib/python3.6/dist-packages/sklearn/cluster/k_means_.py:972: ConvergenceWarning: Number of distinct clusters (46) found smaller than n_clusters (48). Possibly due to duplicate points in X.\n",
            "  return_n_iter=True)\n",
            "/usr/local/lib/python3.6/dist-packages/sklearn/cluster/k_means_.py:972: ConvergenceWarning: Number of distinct clusters (47) found smaller than n_clusters (49). Possibly due to duplicate points in X.\n",
            "  return_n_iter=True)\n",
            "/usr/local/lib/python3.6/dist-packages/sklearn/cluster/k_means_.py:972: ConvergenceWarning: Number of distinct clusters (49) found smaller than n_clusters (50). Possibly due to duplicate points in X.\n",
            "  return_n_iter=True)\n",
            "/usr/local/lib/python3.6/dist-packages/sklearn/cluster/k_means_.py:972: ConvergenceWarning: Number of distinct clusters (49) found smaller than n_clusters (51). Possibly due to duplicate points in X.\n",
            "  return_n_iter=True)\n",
            "/usr/local/lib/python3.6/dist-packages/sklearn/cluster/k_means_.py:972: ConvergenceWarning: Number of distinct clusters (50) found smaller than n_clusters (52). Possibly due to duplicate points in X.\n",
            "  return_n_iter=True)\n",
            "/usr/local/lib/python3.6/dist-packages/sklearn/cluster/k_means_.py:972: ConvergenceWarning: Number of distinct clusters (51) found smaller than n_clusters (53). Possibly due to duplicate points in X.\n",
            "  return_n_iter=True)\n",
            "/usr/local/lib/python3.6/dist-packages/sklearn/cluster/k_means_.py:972: ConvergenceWarning: Number of distinct clusters (52) found smaller than n_clusters (54). Possibly due to duplicate points in X.\n",
            "  return_n_iter=True)\n",
            "/usr/local/lib/python3.6/dist-packages/sklearn/cluster/k_means_.py:972: ConvergenceWarning: Number of distinct clusters (53) found smaller than n_clusters (55). Possibly due to duplicate points in X.\n",
            "  return_n_iter=True)\n",
            "/usr/local/lib/python3.6/dist-packages/sklearn/cluster/k_means_.py:972: ConvergenceWarning: Number of distinct clusters (53) found smaller than n_clusters (56). Possibly due to duplicate points in X.\n",
            "  return_n_iter=True)\n",
            "/usr/local/lib/python3.6/dist-packages/sklearn/cluster/k_means_.py:972: ConvergenceWarning: Number of distinct clusters (57) found smaller than n_clusters (58). Possibly due to duplicate points in X.\n",
            "  return_n_iter=True)\n",
            "/usr/local/lib/python3.6/dist-packages/sklearn/cluster/k_means_.py:972: ConvergenceWarning: Number of distinct clusters (57) found smaller than n_clusters (59). Possibly due to duplicate points in X.\n",
            "  return_n_iter=True)\n",
            "/usr/local/lib/python3.6/dist-packages/sklearn/cluster/k_means_.py:972: ConvergenceWarning: Number of distinct clusters (58) found smaller than n_clusters (60). Possibly due to duplicate points in X.\n",
            "  return_n_iter=True)\n",
            "/usr/local/lib/python3.6/dist-packages/sklearn/cluster/k_means_.py:972: ConvergenceWarning: Number of distinct clusters (59) found smaller than n_clusters (61). Possibly due to duplicate points in X.\n",
            "  return_n_iter=True)\n",
            "/usr/local/lib/python3.6/dist-packages/sklearn/cluster/k_means_.py:972: ConvergenceWarning: Number of distinct clusters (61) found smaller than n_clusters (62). Possibly due to duplicate points in X.\n",
            "  return_n_iter=True)\n",
            "/usr/local/lib/python3.6/dist-packages/sklearn/cluster/k_means_.py:972: ConvergenceWarning: Number of distinct clusters (61) found smaller than n_clusters (63). Possibly due to duplicate points in X.\n",
            "  return_n_iter=True)\n",
            "/usr/local/lib/python3.6/dist-packages/sklearn/cluster/k_means_.py:972: ConvergenceWarning: Number of distinct clusters (62) found smaller than n_clusters (64). Possibly due to duplicate points in X.\n",
            "  return_n_iter=True)\n",
            "/usr/local/lib/python3.6/dist-packages/sklearn/cluster/k_means_.py:972: ConvergenceWarning: Number of distinct clusters (63) found smaller than n_clusters (65). Possibly due to duplicate points in X.\n",
            "  return_n_iter=True)\n",
            "/usr/local/lib/python3.6/dist-packages/sklearn/cluster/k_means_.py:972: ConvergenceWarning: Number of distinct clusters (64) found smaller than n_clusters (66). Possibly due to duplicate points in X.\n",
            "  return_n_iter=True)\n",
            "/usr/local/lib/python3.6/dist-packages/sklearn/cluster/k_means_.py:972: ConvergenceWarning: Number of distinct clusters (65) found smaller than n_clusters (67). Possibly due to duplicate points in X.\n",
            "  return_n_iter=True)\n",
            "/usr/local/lib/python3.6/dist-packages/sklearn/cluster/k_means_.py:972: ConvergenceWarning: Number of distinct clusters (67) found smaller than n_clusters (69). Possibly due to duplicate points in X.\n",
            "  return_n_iter=True)\n",
            "/usr/local/lib/python3.6/dist-packages/sklearn/cluster/k_means_.py:972: ConvergenceWarning: Number of distinct clusters (67) found smaller than n_clusters (70). Possibly due to duplicate points in X.\n",
            "  return_n_iter=True)\n",
            "/usr/local/lib/python3.6/dist-packages/sklearn/cluster/k_means_.py:972: ConvergenceWarning: Number of distinct clusters (68) found smaller than n_clusters (71). Possibly due to duplicate points in X.\n",
            "  return_n_iter=True)\n",
            "/usr/local/lib/python3.6/dist-packages/sklearn/cluster/k_means_.py:972: ConvergenceWarning: Number of distinct clusters (70) found smaller than n_clusters (72). Possibly due to duplicate points in X.\n",
            "  return_n_iter=True)\n",
            "/usr/local/lib/python3.6/dist-packages/sklearn/cluster/k_means_.py:972: ConvergenceWarning: Number of distinct clusters (70) found smaller than n_clusters (73). Possibly due to duplicate points in X.\n",
            "  return_n_iter=True)\n",
            "/usr/local/lib/python3.6/dist-packages/sklearn/cluster/k_means_.py:972: ConvergenceWarning: Number of distinct clusters (71) found smaller than n_clusters (74). Possibly due to duplicate points in X.\n",
            "  return_n_iter=True)\n",
            "/usr/local/lib/python3.6/dist-packages/sklearn/cluster/k_means_.py:972: ConvergenceWarning: Number of distinct clusters (73) found smaller than n_clusters (75). Possibly due to duplicate points in X.\n",
            "  return_n_iter=True)\n",
            "/usr/local/lib/python3.6/dist-packages/sklearn/cluster/k_means_.py:972: ConvergenceWarning: Number of distinct clusters (74) found smaller than n_clusters (76). Possibly due to duplicate points in X.\n",
            "  return_n_iter=True)\n",
            "/usr/local/lib/python3.6/dist-packages/sklearn/cluster/k_means_.py:972: ConvergenceWarning: Number of distinct clusters (75) found smaller than n_clusters (77). Possibly due to duplicate points in X.\n",
            "  return_n_iter=True)\n",
            "/usr/local/lib/python3.6/dist-packages/sklearn/cluster/k_means_.py:972: ConvergenceWarning: Number of distinct clusters (77) found smaller than n_clusters (78). Possibly due to duplicate points in X.\n",
            "  return_n_iter=True)\n",
            "/usr/local/lib/python3.6/dist-packages/sklearn/cluster/k_means_.py:972: ConvergenceWarning: Number of distinct clusters (76) found smaller than n_clusters (79). Possibly due to duplicate points in X.\n",
            "  return_n_iter=True)\n",
            "/usr/local/lib/python3.6/dist-packages/sklearn/cluster/k_means_.py:972: ConvergenceWarning: Number of distinct clusters (78) found smaller than n_clusters (80). Possibly due to duplicate points in X.\n",
            "  return_n_iter=True)\n",
            "/usr/local/lib/python3.6/dist-packages/sklearn/cluster/k_means_.py:972: ConvergenceWarning: Number of distinct clusters (80) found smaller than n_clusters (81). Possibly due to duplicate points in X.\n",
            "  return_n_iter=True)\n",
            "/usr/local/lib/python3.6/dist-packages/sklearn/cluster/k_means_.py:972: ConvergenceWarning: Number of distinct clusters (81) found smaller than n_clusters (82). Possibly due to duplicate points in X.\n",
            "  return_n_iter=True)\n",
            "/usr/local/lib/python3.6/dist-packages/sklearn/cluster/k_means_.py:972: ConvergenceWarning: Number of distinct clusters (79) found smaller than n_clusters (83). Possibly due to duplicate points in X.\n",
            "  return_n_iter=True)\n",
            "/usr/local/lib/python3.6/dist-packages/sklearn/cluster/k_means_.py:972: ConvergenceWarning: Number of distinct clusters (82) found smaller than n_clusters (84). Possibly due to duplicate points in X.\n",
            "  return_n_iter=True)\n",
            "/usr/local/lib/python3.6/dist-packages/sklearn/cluster/k_means_.py:972: ConvergenceWarning: Number of distinct clusters (83) found smaller than n_clusters (85). Possibly due to duplicate points in X.\n",
            "  return_n_iter=True)\n",
            "/usr/local/lib/python3.6/dist-packages/sklearn/cluster/k_means_.py:972: ConvergenceWarning: Number of distinct clusters (84) found smaller than n_clusters (86). Possibly due to duplicate points in X.\n",
            "  return_n_iter=True)\n",
            "/usr/local/lib/python3.6/dist-packages/sklearn/cluster/k_means_.py:972: ConvergenceWarning: Number of distinct clusters (84) found smaller than n_clusters (87). Possibly due to duplicate points in X.\n",
            "  return_n_iter=True)\n",
            "/usr/local/lib/python3.6/dist-packages/sklearn/cluster/k_means_.py:972: ConvergenceWarning: Number of distinct clusters (87) found smaller than n_clusters (88). Possibly due to duplicate points in X.\n",
            "  return_n_iter=True)\n",
            "/usr/local/lib/python3.6/dist-packages/sklearn/cluster/k_means_.py:972: ConvergenceWarning: Number of distinct clusters (88) found smaller than n_clusters (89). Possibly due to duplicate points in X.\n",
            "  return_n_iter=True)\n"
          ],
          "name": "stderr"
        }
      ]
    },
    {
      "cell_type": "code",
      "metadata": {
        "id": "Nc0bP58r3cwy"
      },
      "source": [
        "score_gmm, predicted_label_gmm, cluster_gmm = evaluate_gmm()"
      ],
      "execution_count": null,
      "outputs": []
    },
    {
      "cell_type": "code",
      "metadata": {
        "id": "l2bjR9TZ3cw2"
      },
      "source": [
        "score_dbscan, predicted_label_dbscan, clusters_dbscan = evaluate_dbscan()"
      ],
      "execution_count": null,
      "outputs": []
    },
    {
      "cell_type": "code",
      "metadata": {
        "id": "pNd2nM7W3cw5",
        "outputId": "61b63c1a-8566-4278-d25e-c00506b916f8",
        "colab": {
          "base_uri": "https://localhost:8080/",
          "height": 68
        }
      },
      "source": [
        "print ('KMeans results: ')\n",
        "print ('Silhoeutte Score :', score_kmeans)\n",
        "print ('Number of clusters formed: ', cluster_kmeans)"
      ],
      "execution_count": null,
      "outputs": [
        {
          "output_type": "stream",
          "text": [
            "KMeans results: \n",
            "Silhoeutte Score : 0.9999999997709409\n",
            "Number of clusters formed:  2\n"
          ],
          "name": "stdout"
        }
      ]
    },
    {
      "cell_type": "code",
      "metadata": {
        "id": "ShRBDYpl3cxA",
        "outputId": "679001d7-9450-4f3c-cf99-c2d38e3d5022",
        "colab": {
          "base_uri": "https://localhost:8080/",
          "height": 119
        }
      },
      "source": [
        "print ('GMM results: ')\n",
        "print ('Silhoeutte Score :', score_gmm)\n",
        "print ('Number of clusters formed: ', cluster_gmm)\n",
        "print (predicted_label_gmm)"
      ],
      "execution_count": null,
      "outputs": [
        {
          "output_type": "stream",
          "text": [
            "GMM results: \n",
            "Silhoeutte Score : 0.9999999997709409\n",
            "Number of clusters formed:  2\n",
            "[0 0 0 0 0 0 0 0 0 0 0 0 0 0 0 0 0 0 0 0 0 0 0 0 0 0 0 0 0 0 0 0 0 0 0 0 0\n",
            " 0 0 0 0 0 0 0 0 0 0 0 0 0 0 0 0 0 0 0 0 0 0 0 0 0 0 0 0 0 0 0 0 0 0 0 1 1\n",
            " 1 1 1 1 1 1 1 1 1 1 1 1 1 1 1 1 1 1]\n"
          ],
          "name": "stdout"
        }
      ]
    },
    {
      "cell_type": "code",
      "metadata": {
        "id": "PAhiqQb23cxF",
        "outputId": "9516900f-c0be-4695-dc26-1cf9573f1713",
        "colab": {
          "base_uri": "https://localhost:8080/",
          "height": 136
        }
      },
      "source": [
        "score_dbscan, predicted_label_dbscan\n",
        "print ('DBSCAN results: ')\n",
        "print ('Silhoeutte Score :', score_dbscan)\n",
        "print ('Number of clusters formed: ', clusters_dbscan)\n",
        "print (predicted_label_dbscan)"
      ],
      "execution_count": null,
      "outputs": [
        {
          "output_type": "stream",
          "text": [
            "DBSCAN results: \n",
            "Silhoeutte Score : 0.9999999997709409\n",
            "Number of clusters formed:  [-1  0]\n",
            "[ 0  0  0  0  0  0  0  0  0  0  0  0  0  0  0  0  0  0  0  0  0  0  0  0\n",
            "  0  0  0  0  0  0  0  0  0  0  0  0  0  0  0  0  0  0  0  0  0  0  0  0\n",
            "  0  0  0  0  0  0  0  0  0  0  0  0  0  0  0  0  0  0  0  0  0  0  0  0\n",
            " -1 -1 -1 -1 -1 -1 -1 -1 -1 -1 -1 -1 -1 -1 -1 -1 -1 -1 -1 -1]\n"
          ],
          "name": "stdout"
        }
      ]
    }
  ]
}