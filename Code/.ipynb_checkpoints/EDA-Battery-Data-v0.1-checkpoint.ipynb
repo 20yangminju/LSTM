{
 "cells": [
  {
   "cell_type": "code",
   "execution_count": 1,
   "metadata": {
    "application/vnd.databricks.v1+cell": {
     "inputWidgets": {},
     "nuid": "1960c809-d3bd-400a-a928-7b45e3f8c0a2",
     "showTitle": false,
     "title": ""
    }
   },
   "outputs": [],
   "source": [
    "import matplotlib.pyplot as plt"
   ]
  },
  {
   "cell_type": "code",
   "execution_count": 2,
   "metadata": {
    "application/vnd.databricks.v1+cell": {
     "inputWidgets": {},
     "nuid": "8b04bea5-e082-4dfa-b4a0-98db104a3a47",
     "showTitle": false,
     "title": ""
    }
   },
   "outputs": [
    {
     "ename": "ModuleNotFoundError",
     "evalue": "No module named 'scipy'",
     "output_type": "error",
     "traceback": [
      "\u001b[1;31m---------------------------------------------------------------------------\u001b[0m",
      "\u001b[1;31mModuleNotFoundError\u001b[0m                       Traceback (most recent call last)",
      "\u001b[1;32m~\\LSTM-Analytics-NASA-Battery-LTV-Prediction\\Code\\Preprocessing-Setup.py\u001b[0m in \u001b[0;36m<module>\u001b[1;34m\u001b[0m\n\u001b[0;32m      1\u001b[0m \u001b[1;31m# Databricks notebook source\u001b[0m\u001b[1;33m\u001b[0m\u001b[1;33m\u001b[0m\u001b[1;33m\u001b[0m\u001b[0m\n\u001b[0;32m      2\u001b[0m \u001b[1;32mimport\u001b[0m \u001b[0mmatplotlib\u001b[0m\u001b[1;33m.\u001b[0m\u001b[0mpyplot\u001b[0m \u001b[1;32mas\u001b[0m \u001b[0mplt\u001b[0m\u001b[1;33m\u001b[0m\u001b[1;33m\u001b[0m\u001b[0m\n\u001b[1;32m----> 3\u001b[1;33m \u001b[1;32mimport\u001b[0m \u001b[0mscipy\u001b[0m\u001b[1;33m.\u001b[0m\u001b[0mio\u001b[0m\u001b[1;33m\u001b[0m\u001b[1;33m\u001b[0m\u001b[0m\n\u001b[0m\u001b[0;32m      4\u001b[0m \u001b[1;32mimport\u001b[0m \u001b[0mnumpy\u001b[0m \u001b[1;32mas\u001b[0m \u001b[0mnp\u001b[0m\u001b[1;33m,\u001b[0m \u001b[0mh5py\u001b[0m\u001b[1;33m\u001b[0m\u001b[1;33m\u001b[0m\u001b[0m\n\u001b[0;32m      5\u001b[0m \u001b[1;32mfrom\u001b[0m \u001b[0mdatetime\u001b[0m \u001b[1;32mimport\u001b[0m \u001b[0mdatetime\u001b[0m\u001b[1;33m\u001b[0m\u001b[1;33m\u001b[0m\u001b[0m\n",
      "\u001b[1;31mModuleNotFoundError\u001b[0m: No module named 'scipy'"
     ]
    }
   ],
   "source": [
    "%run \"./Preprocessing-Setup\""
   ]
  },
  {
   "cell_type": "code",
   "execution_count": 3,
   "metadata": {
    "application/vnd.databricks.v1+cell": {
     "inputWidgets": {},
     "nuid": "9894cec2-5c38-4903-9f69-a573b0833682",
     "showTitle": false,
     "title": ""
    }
   },
   "outputs": [
    {
     "ename": "NameError",
     "evalue": "name 'loadMat' is not defined",
     "output_type": "error",
     "traceback": [
      "\u001b[1;31m---------------------------------------------------------------------------\u001b[0m",
      "\u001b[1;31mNameError\u001b[0m                                 Traceback (most recent call last)",
      "\u001b[1;32m~\\AppData\\Local\\Temp\\ipykernel_17512\\4164878721.py\u001b[0m in \u001b[0;36m<module>\u001b[1;34m\u001b[0m\n\u001b[1;32m----> 1\u001b[1;33m \u001b[0mB0005\u001b[0m \u001b[1;33m=\u001b[0m \u001b[0mloadMat\u001b[0m\u001b[1;33m(\u001b[0m\u001b[1;34m'B0005.mat'\u001b[0m\u001b[1;33m)\u001b[0m\u001b[1;33m\u001b[0m\u001b[1;33m\u001b[0m\u001b[0m\n\u001b[0m\u001b[0;32m      2\u001b[0m \u001b[0mB0006\u001b[0m \u001b[1;33m=\u001b[0m \u001b[0mloadMat\u001b[0m\u001b[1;33m(\u001b[0m\u001b[1;34m'B0006.mat'\u001b[0m\u001b[1;33m)\u001b[0m\u001b[1;33m\u001b[0m\u001b[1;33m\u001b[0m\u001b[0m\n\u001b[0;32m      3\u001b[0m \u001b[0mB0007\u001b[0m \u001b[1;33m=\u001b[0m \u001b[0mloadMat\u001b[0m\u001b[1;33m(\u001b[0m\u001b[1;34m'B0007.mat'\u001b[0m\u001b[1;33m)\u001b[0m\u001b[1;33m\u001b[0m\u001b[1;33m\u001b[0m\u001b[0m\n\u001b[0;32m      4\u001b[0m \u001b[0mB0018\u001b[0m \u001b[1;33m=\u001b[0m \u001b[0mloadMat\u001b[0m\u001b[1;33m(\u001b[0m\u001b[1;34m'B0018.mat'\u001b[0m\u001b[1;33m)\u001b[0m\u001b[1;33m\u001b[0m\u001b[1;33m\u001b[0m\u001b[0m\n",
      "\u001b[1;31mNameError\u001b[0m: name 'loadMat' is not defined"
     ]
    }
   ],
   "source": [
    "B0005 = loadMat('B0005.mat')\n",
    "B0006 = loadMat('B0006.mat')\n",
    "B0007 = loadMat('B0007.mat')\n",
    "B0018 = loadMat('B0018.mat')"
   ]
  },
  {
   "cell_type": "code",
   "execution_count": null,
   "metadata": {
    "application/vnd.databricks.v1+cell": {
     "inputWidgets": {},
     "nuid": "729329a2-bcd3-4953-8390-834d418305d7",
     "showTitle": false,
     "title": ""
    }
   },
   "outputs": [],
   "source": [
    "B0005_capacity = getBatteryCapacity(B0005)\n",
    "B0006_capacity = getBatteryCapacity(B0006)\n",
    "B0007_capacity = getBatteryCapacity(B0007)\n",
    "B0018_capacity = getBatteryCapacity(B0018)"
   ]
  },
  {
   "cell_type": "code",
   "execution_count": null,
   "metadata": {
    "application/vnd.databricks.v1+cell": {
     "inputWidgets": {},
     "nuid": "41d85531-5831-4980-a92e-98e18db87b89",
     "showTitle": false,
     "title": ""
    }
   },
   "outputs": [],
   "source": [
    "#https://matplotlib.org/stable/tutorials/colors/colors.html\n",
    "fig, ax = plt.subplots(1, figsize=(12, 8))\n",
    "\n",
    "ax.plot(B0005_capacity[0], B0005_capacity[1], color='red', label='B0005')\n",
    "ax.plot(B0006_capacity[0], B0006_capacity[1], color='purple', label='B0006')\n",
    "ax.plot(B0007_capacity[0], B0007_capacity[1], color='orangered', label='B0007')\n",
    "ax.plot(B0018_capacity[0], B0018_capacity[1], color='green', label='B0018')\n",
    "ax.set(xlabel='Cycles', ylabel='Capacity', title='Capacity degradation | type=discharge,T=24°C'+'\\n')\n",
    "ax.set_facecolor('beige')\n",
    "plt.legend()"
   ]
  },
  {
   "cell_type": "code",
   "execution_count": null,
   "metadata": {
    "application/vnd.databricks.v1+cell": {
     "inputWidgets": {},
     "nuid": "7f9e6df1-e67d-471a-9948-aa86c9984023",
     "showTitle": false,
     "title": ""
    }
   },
   "outputs": [],
   "source": [
    "charging_labels = ['Voltage_measured','Current_measured','Temperature_measured']"
   ]
  },
  {
   "cell_type": "code",
   "execution_count": null,
   "metadata": {
    "application/vnd.databricks.v1+cell": {
     "inputWidgets": {},
     "nuid": "94bdb62e-fb17-491e-99b9-639a65c49cb7",
     "showTitle": false,
     "title": ""
    }
   },
   "outputs": [],
   "source": [
    "B0005_charging = getChargingValues(B0005, 0)\n",
    "B0006_charging = getChargingValues(B0006, 0)\n",
    "B0007_charging = getChargingValues(B0007, 0)\n",
    "B0018_charging = getChargingValues(B0018, 0)\n"
   ]
  },
  {
   "cell_type": "code",
   "execution_count": null,
   "metadata": {
    "application/vnd.databricks.v1+cell": {
     "inputWidgets": {},
     "nuid": "2e77129f-4501-4c62-82b0-b5a5fc02a4b6",
     "showTitle": false,
     "title": ""
    }
   },
   "outputs": [],
   "source": [
    "#indx = 1\n",
    "#for label in charging_labels:\n",
    "fig, ax = plt.subplots(1, figsize=(20, 7))\n",
    "\n",
    "ax.plot(B0005_charging[5], B0005_capacity[1], color='red', label='B0005')\n",
    "ax.plot(B0006_charging[5], B0006_capacity[1], color='purple', label='B0006')\n",
    "ax.plot(B0007_charging[5], B0007_capacity[1], color='orangered', label='B0007')\n",
    "ax.plot(B0018_charging[5], B0018_capacity[1], color='green', label='B0018')\n",
    "ax.set(xlabel='Time(s)', ylabel=label, title='Charging performance')\n",
    "ax.set_facecolor('beige')\n",
    "plt.legend()\n"
   ]
  },
  {
   "cell_type": "code",
   "execution_count": null,
   "metadata": {
    "application/vnd.databricks.v1+cell": {
     "inputWidgets": {},
     "nuid": "b8d0e386-48a3-462f-957a-2e1ed6d6e788",
     "showTitle": false,
     "title": ""
    }
   },
   "outputs": [],
   "source": [
    "indx = 1\n",
    "for label in charging_labels:\n",
    "    fig, ax = plt.subplots(1, figsize=(20, 7))\n",
    "    fig1, ax1 = plt.subplots(1, figsize=(20, 7))\n",
    "    fig2, ax2 = plt.subplots(1, figsize=(20, 7))\n",
    "    fig3, ax3=plt.subplots(1, figsize=(20, 7))\n",
    "\n",
    "    ax.plot(B0005_charging[5], B0005_charging[indx], color='red' ,label=\"B0005\")\n",
    "    ax1.plot(B0006_charging[5], B0006_charging[indx], color='orange', label=\"B0006\")\n",
    "    ax2.plot(B0007_charging[5], B0007_charging[indx], color='blue' ,label=\"B0007\")\n",
    "    ax3.plot(B0018_charging[5], B0018_charging[indx], color='pink' ,label=\"B0018\")\n",
    "\n",
    "    ax.set(xlabel='Time(s)', ylabel=label, title='Charging performance ')\n",
    "    plt.legend()\n",
    "    ax1.set(xlabel='Time(s)', ylabel=label, title='Charging performance ')\n",
    "    ax2.set(xlabel='Time(s)', ylabel=label, title='Charging performance')\n",
    "    ax3.set(xlabel='Time(s)', ylabel=label, title='Charging performance')\n",
    "    \n",
    "    \n",
    "    indx += 1    "
   ]
  },
  {
   "cell_type": "code",
   "execution_count": null,
   "metadata": {
    "application/vnd.databricks.v1+cell": {
     "inputWidgets": {},
     "nuid": "f10c88c9-87be-4fbc-ad79-0745598984c8",
     "showTitle": false,
     "title": ""
    }
   },
   "outputs": [],
   "source": [
    "B0005_discharging = getDischargingValues(B0005, 1)\n",
    "B0006_discharging = getDischargingValues(B0006, 1)\n",
    "B0007_discharging = getDischargingValues(B0007, 1)"
   ]
  },
  {
   "cell_type": "code",
   "execution_count": null,
   "metadata": {
    "application/vnd.databricks.v1+cell": {
     "inputWidgets": {},
     "nuid": "62c1ff77-bf80-4f3f-ab5f-c50487ec4f7e",
     "showTitle": false,
     "title": ""
    }
   },
   "outputs": [],
   "source": [
    "indx = 1\n",
    "for label in charging_labels:\n",
    "    fig, ax = plt.subplots(1, figsize=(20, 7))\n",
    "    fig1, ax1 = plt.subplots(1, figsize=(20, 7))\n",
    "    fig2, ax2 = plt.subplots(1, figsize=(20, 7))\n",
    "\n",
    "    \n",
    "    ax.plot(B0005_discharging[5], B0005_discharging[indx], color='red' ,label=\"B0005\")\n",
    "    ax1.plot(B0006_discharging[5], B0006_discharging[indx], color='orange', label=\"B0006\")\n",
    "    ax2.plot(B0007_discharging[5], B0007_discharging[indx], color='blue' ,label=\"B0007\")\n",
    "\n",
    "    \n",
    "    ax.set(xlabel='Time(s)', ylabel=label, title='DisCharging performance ')\n",
    "    plt.legend()\n",
    "    ax1.set(xlabel='Time(s)', ylabel=label, title='DisCharging performance ')\n",
    "    ax2.set(xlabel='Time(s)', ylabel=label, title='DisCharging performance')\n",
    "\n",
    "    indx += 1    "
   ]
  }
 ],
 "metadata": {
  "application/vnd.databricks.v1+notebook": {
   "dashboards": [],
   "language": "python",
   "notebookMetadata": {
    "pythonIndentUnit": 2
   },
   "notebookName": "EDA-Battery-Data-v0.1",
   "notebookOrigID": 1493499110604974,
   "widgets": {}
  },
  "kernelspec": {
   "display_name": "Team6",
   "language": "python",
   "name": "team6"
  },
  "language_info": {
   "codemirror_mode": {
    "name": "ipython",
    "version": 3
   },
   "file_extension": ".py",
   "mimetype": "text/x-python",
   "name": "python",
   "nbconvert_exporter": "python",
   "pygments_lexer": "ipython3",
   "version": "3.7.1"
  }
 },
 "nbformat": 4,
 "nbformat_minor": 1
}
