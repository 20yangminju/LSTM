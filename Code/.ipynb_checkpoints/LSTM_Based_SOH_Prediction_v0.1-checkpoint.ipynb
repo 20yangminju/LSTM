{
 "cells": [
  {
   "cell_type": "markdown",
   "metadata": {
    "application/vnd.databricks.v1+cell": {
     "inputWidgets": {},
     "nuid": "905cebd4-8569-47ec-b430-3ee6d463c190",
     "showTitle": false,
     "title": ""
    },
    "colab_type": "text",
    "id": "KA-ud0ZCYkSt"
   },
   "source": [
    "# Predicting the SOH of Batteries Using Deep Learning"
   ]
  },
  {
   "cell_type": "code",
   "execution_count": 1,
   "metadata": {
    "application/vnd.databricks.v1+cell": {
     "inputWidgets": {},
     "nuid": "418970ae-a9cd-4353-883b-139b542ccd90",
     "showTitle": false,
     "title": ""
    },
    "colab": {
     "base_uri": "https://localhost:8080/",
     "height": 215
    },
    "colab_type": "code",
    "id": "RR0daHVBsGHU",
    "outputId": "70173b00-de0c-4681-e41b-53d27245b302"
   },
   "outputs": [
    {
     "name": "stdout",
     "output_type": "stream",
     "text": [
      "Name: tensorflow\n",
      "Version: 2.11.0\n",
      "Summary: TensorFlow is an open source machine learning framework for everyone.\n",
      "Home-page: https://www.tensorflow.org/\n",
      "Author: Google Inc.\n",
      "Author-email: packages@tensorflow.org\n",
      "License: Apache 2.0\n",
      "Location: c:\\users\\yang\\anaconda3\\envs\\team6\\lib\\site-packages\n",
      "Requires: tensorflow-intel\n",
      "Required-by: \n"
     ]
    },
    {
     "name": "stderr",
     "output_type": "stream",
     "text": [
      "'wget' is not recognized as an internal or external command,\n",
      "operable program or batch file.\n",
      "unzip:  cannot find or open naza.zip, naza.zip.zip or naza.zip.ZIP.\n"
     ]
    }
   ],
   "source": [
    "!pip show tensorflow\n",
    "!wget -cq https://ti.arc.nasa.gov/c/5 -O naza.zip\n",
    "!unzip -qqo naza.zip -d battery_data"
   ]
  },
  {
   "cell_type": "markdown",
   "metadata": {
    "application/vnd.databricks.v1+cell": {
     "inputWidgets": {},
     "nuid": "b170a1b8-7693-45e8-b40f-0f74f4e94716",
     "showTitle": false,
     "title": ""
    },
    "colab_type": "text",
    "id": "jFaLFIu1BDzT"
   },
   "source": [
    "## 01. Import Library"
   ]
  },
  {
   "cell_type": "code",
   "execution_count": 2,
   "metadata": {
    "application/vnd.databricks.v1+cell": {
     "inputWidgets": {},
     "nuid": "24ca8d9d-ca7c-4a54-9d7e-5ef6b19cbc99",
     "showTitle": false,
     "title": ""
    },
    "colab": {},
    "colab_type": "code",
    "id": "L8OwoPz1th2h"
   },
   "outputs": [
    {
     "ename": "ModuleNotFoundError",
     "evalue": "No module named 'seaborn'",
     "output_type": "error",
     "traceback": [
      "\u001b[1;31m---------------------------------------------------------------------------\u001b[0m",
      "\u001b[1;31mModuleNotFoundError\u001b[0m                       Traceback (most recent call last)",
      "\u001b[1;32m~\\AppData\\Local\\Temp\\ipykernel_16564\\565426641.py\u001b[0m in \u001b[0;36m<module>\u001b[1;34m\u001b[0m\n\u001b[0;32m      7\u001b[0m \u001b[1;32mfrom\u001b[0m \u001b[0msklearn\u001b[0m \u001b[1;32mimport\u001b[0m \u001b[0mmetrics\u001b[0m\u001b[1;33m\u001b[0m\u001b[1;33m\u001b[0m\u001b[0m\n\u001b[0;32m      8\u001b[0m \u001b[1;32mimport\u001b[0m \u001b[0mmatplotlib\u001b[0m\u001b[1;33m.\u001b[0m\u001b[0mpyplot\u001b[0m \u001b[1;32mas\u001b[0m \u001b[0mplt\u001b[0m\u001b[1;33m\u001b[0m\u001b[1;33m\u001b[0m\u001b[0m\n\u001b[1;32m----> 9\u001b[1;33m \u001b[1;32mimport\u001b[0m \u001b[0mseaborn\u001b[0m \u001b[1;32mas\u001b[0m \u001b[0msns\u001b[0m\u001b[1;33m\u001b[0m\u001b[1;33m\u001b[0m\u001b[0m\n\u001b[0m",
      "\u001b[1;31mModuleNotFoundError\u001b[0m: No module named 'seaborn'"
     ]
    }
   ],
   "source": [
    "import datetime\n",
    "import numpy as np\n",
    "import pandas as pd\n",
    "from scipy.io import loadmat\n",
    "from sklearn.preprocessing import MinMaxScaler\n",
    "from sklearn.metrics import mean_squared_error\n",
    "from sklearn import metrics\n",
    "import matplotlib.pyplot as plt\n",
    "import seaborn as sns"
   ]
  },
  {
   "cell_type": "markdown",
   "metadata": {
    "application/vnd.databricks.v1+cell": {
     "inputWidgets": {},
     "nuid": "980787f2-7206-4a2c-ae9e-f8f53f20545e",
     "showTitle": false,
     "title": ""
    }
   },
   "source": [
    "## 02. Make Dictionary"
   ]
  },
  {
   "cell_type": "code",
   "execution_count": null,
   "metadata": {
    "application/vnd.databricks.v1+cell": {
     "inputWidgets": {},
     "nuid": "5e25c572-baf8-4df3-86bd-f56127d9b4d3",
     "showTitle": false,
     "title": ""
    },
    "colab": {
     "base_uri": "https://localhost:8080/",
     "height": 567
    },
    "colab_type": "code",
    "id": "HXC7-1FhY1_k",
    "outputId": "c3bd647e-6c5b-407c-b9e7-5cb8fc91f3fd"
   },
   "outputs": [],
   "source": [
    "def load_data(battery):\n",
    "  mat = loadmat('battery_data/' + battery + '.mat')\n",
    "  print('Total data in dataset: ', len(mat[battery][0, 0]['cycle'][0]))\n",
    "  counter = 0\n",
    "  dataset = []\n",
    "  capacity_data = []\n",
    "  \n",
    "  for i in range(len(mat[battery][0, 0]['cycle'][0])):\n",
    "    row = mat[battery][0, 0]['cycle'][0, i]\n",
    "    if row['type'][0] == 'discharge':\n",
    "      ambient_temperature = row['ambient_temperature'][0][0]\n",
    "      date_time = datetime.datetime(int(row['time'][0][0]),\n",
    "                               int(row['time'][0][1]),\n",
    "                               int(row['time'][0][2]),\n",
    "                               int(row['time'][0][3]),\n",
    "                               int(row['time'][0][4])) + datetime.timedelta(seconds=int(row['time'][0][5]))\n",
    "      data = row['data']\n",
    "      capacity = data[0][0]['Capacity'][0][0]\n",
    "      for j in range(len(data[0][0]['Voltage_measured'][0])):\n",
    "        voltage_measured = data[0][0]['Voltage_measured'][0][j]\n",
    "        current_measured = data[0][0]['Current_measured'][0][j]\n",
    "        temperature_measured = data[0][0]['Temperature_measured'][0][j]\n",
    "        current_load = data[0][0]['Current_load'][0][j]\n",
    "        voltage_load = data[0][0]['Voltage_load'][0][j]\n",
    "        time = data[0][0]['Time'][0][j]\n",
    "        dataset.append([counter + 1, ambient_temperature, date_time, capacity,\n",
    "                        voltage_measured, current_measured,\n",
    "                        temperature_measured, current_load,\n",
    "                        voltage_load, time])\n",
    "      capacity_data.append([counter + 1, ambient_temperature, date_time, capacity])\n",
    "      counter = counter + 1\n",
    " \n",
    "  print(dataset[0])\n",
    "  return [pd.DataFrame(data=dataset,\n",
    "                       columns=['cycle', 'ambient_temperature', 'date_time',\n",
    "                                'capacity', 'voltage_measured', 'current_measured', 'temperature_measured',\n",
    "                                'current_load', 'voltage_load', 'time']),\n",
    "          pd.DataFrame(data=capacity_data,\n",
    "                       columns=['cycle', 'ambient_temperature', 'date_time', 'capacity'])]\n",
    "\n",
    "dataset, capacity = load_data('B0005')\n",
    "pd.set_option('display.max_columns', 10)\n",
    "print(dataset.head())\n",
    "dataset.describe()"
   ]
  },
  {
   "cell_type": "code",
   "execution_count": null,
   "metadata": {
    "application/vnd.databricks.v1+cell": {
     "inputWidgets": {},
     "nuid": "f2250b96-3213-403c-85ed-d439ff5b06bf",
     "showTitle": false,
     "title": ""
    },
    "colab": {
     "base_uri": "https://localhost:8080/",
     "height": 531
    },
    "colab_type": "code",
    "id": "hJBAcVdFzOYn",
    "outputId": "c13081b0-d4a5-47cb-ae32-1bcbd76e7e7b"
   },
   "outputs": [],
   "source": [
    "plot_df = capacity.loc[(capacity['cycle']>=1),['cycle','capacity']]\n",
    "sns.set_style(\"whitegrid\")\n",
    "#deep, muted, pastel, bright, dark, colorblind\n",
    "sns.set_palette('bright')\n",
    "plt.figure(figsize=(12, 8))\n",
    "plt.plot(plot_df['cycle'], plot_df['capacity'])\n",
    "#Draw threshold\n",
    "plt.plot([0.,len(capacity)], [1.4, 1.4])\n",
    "plt.ylabel('Capacity')\n",
    "# make x-axis ticks legible\n",
    "adf = plt.gca().get_xaxis().get_major_formatter()\n",
    "plt.xlabel('cycle')\n",
    "plt.title('file=B0005 | type=discharge')"
   ]
  },
  {
   "cell_type": "code",
   "execution_count": null,
   "metadata": {
    "application/vnd.databricks.v1+cell": {
     "inputWidgets": {},
     "nuid": "745a6cf4-22de-453a-9e80-a4dacec304ab",
     "showTitle": false,
     "title": ""
    },
    "colab": {
     "base_uri": "https://localhost:8080/",
     "height": 125
    },
    "colab_type": "code",
    "id": "PXBCY4Gw1MW-",
    "outputId": "602f44a4-4fdd-4795-9d6c-d7ffe1ee29dc"
   },
   "outputs": [],
   "source": [
    "attrib=['cycle', 'date_time', 'capacity']\n",
    "dis_ele = capacity[attrib]\n",
    "C = dis_ele['capacity'][0]\n",
    "for i in range(len(dis_ele)):\n",
    "    dis_ele['SOH']=(dis_ele['capacity'])/C\n",
    "print(dis_ele.head(5))"
   ]
  },
  {
   "cell_type": "code",
   "execution_count": null,
   "metadata": {
    "application/vnd.databricks.v1+cell": {
     "inputWidgets": {},
     "nuid": "fb318f7a-130f-4969-9948-413d875e30a5",
     "showTitle": false,
     "title": ""
    }
   },
   "outputs": [],
   "source": [
    "dis_ele.describe()"
   ]
  },
  {
   "cell_type": "code",
   "execution_count": null,
   "metadata": {
    "application/vnd.databricks.v1+cell": {
     "inputWidgets": {},
     "nuid": "af4faabd-13e0-4b7d-b89d-4b6015254b28",
     "showTitle": false,
     "title": ""
    },
    "colab": {
     "base_uri": "https://localhost:8080/",
     "height": 368
    },
    "colab_type": "code",
    "id": "2-x82h7g-6nO",
    "outputId": "4b5f5e58-ba53-4efb-acb4-a8fa7e10aef5"
   },
   "outputs": [],
   "source": [
    "plot_df = dis_ele.loc[(dis_ele['cycle']>=1),['cycle','SOH']]\n",
    "sns.set_style(\"whitegrid\")\n",
    "#deep, muted, pastel, bright, dark, colorblind\n",
    "sns.set_palette('bright')\n",
    "plt.figure(figsize=(12, 8))\n",
    "plt.plot(plot_df['cycle'], plot_df['SOH'])\n",
    "#Draw threshold\n",
    "plt.plot([0.,len(capacity)], [0.70, 0.70])\n",
    "plt.ylabel('SOH')\n",
    "# make x-axis ticks legible\n",
    "adf = plt.gca().get_xaxis().get_major_formatter()\n",
    "plt.xlabel('cycle')\n",
    "plt.title('file=B0005 | type=discharge')"
   ]
  },
  {
   "cell_type": "code",
   "execution_count": null,
   "metadata": {
    "application/vnd.databricks.v1+cell": {
     "inputWidgets": {},
     "nuid": "721667d3-3280-4dc9-8aed-06d3aa90bb0b",
     "showTitle": false,
     "title": ""
    },
    "colab": {
     "base_uri": "https://localhost:8080/",
     "height": 53
    },
    "colab_type": "code",
    "id": "XhgFVnqx7zO3",
    "outputId": "e228a288-edb1-4c4e-b140-582b4235a73c"
   },
   "outputs": [],
   "source": [
    "C = dataset['capacity'][0]\n",
    "soh = []\n",
    "for i in range(len(dataset)):\n",
    "  soh.append([dataset['capacity'][i] / C])\n",
    "soh = pd.DataFrame(data=soh, columns=['SOH'])\n",
    "\n",
    "attribs=['capacity', 'voltage_measured', 'current_measured',\n",
    "         'temperature_measured', 'current_load', 'voltage_load', 'time']\n",
    "train_dataset = dataset[attribs]\n",
    "sc = MinMaxScaler(feature_range=(0,1))\n",
    "train_dataset = sc.fit_transform(train_dataset)\n",
    "print(train_dataset.shape)\n",
    "print(soh.shape)"
   ]
  },
  {
   "cell_type": "markdown",
   "metadata": {
    "application/vnd.databricks.v1+cell": {
     "inputWidgets": {},
     "nuid": "82effa9c-f3dd-4445-adae-6f40b9d40548",
     "showTitle": false,
     "title": ""
    },
    "colab_type": "text",
    "id": "U_fBEAXV2qZz"
   },
   "source": [
    "ADAM optimizer"
   ]
  },
  {
   "cell_type": "code",
   "execution_count": null,
   "metadata": {
    "application/vnd.databricks.v1+cell": {
     "inputWidgets": {},
     "nuid": "2f6efb8e-cd63-490c-8fe6-40c11b8366c9",
     "showTitle": false,
     "title": ""
    },
    "colab": {},
    "colab_type": "code",
    "id": "915_UyaoSucG"
   },
   "outputs": [],
   "source": [
    "import tensorflow as tf\n",
    "from tensorflow.keras.models import Sequential\n",
    "from tensorflow.keras.layers import Dense\n",
    "from tensorflow.keras.layers import Dropout\n",
    "from tensorflow.keras.layers import Flatten\n",
    "from tensorflow.keras.layers import LSTM\n",
    "from tensorflow.keras.optimizers import Adam"
   ]
  },
  {
   "cell_type": "markdown",
   "metadata": {
    "application/vnd.databricks.v1+cell": {
     "inputWidgets": {},
     "nuid": "1ceac719-a557-4ca6-b93c-6c594cb79ef2",
     "showTitle": false,
     "title": ""
    }
   },
   "source": [
    "## LSTM-Based Modeling"
   ]
  },
  {
   "cell_type": "code",
   "execution_count": null,
   "metadata": {
    "application/vnd.databricks.v1+cell": {
     "inputWidgets": {},
     "nuid": "bd86467e-f924-49f4-b0e7-4880d3235821",
     "showTitle": false,
     "title": ""
    },
    "colab": {
     "base_uri": "https://localhost:8080/",
     "height": 341
    },
    "colab_type": "code",
    "id": "wksYStH1TYzC",
    "outputId": "507f78a0-cecf-4f25-fd97-aa57fe93a1ab"
   },
   "outputs": [],
   "source": [
    "model = Sequential()\n",
    "model.add(Dense(8, activation='relu', input_dim=train_dataset.shape[1]))\n",
    "model.add(Dense(8, activation='relu'))\n",
    "model.add(Dense(8, activation='relu'))\n",
    "model.add(Dropout(rate=0.25))\n",
    "model.add(Dense(1))\n",
    "model.summary()\n",
    "model.compile(optimizer=Adam(beta_1=0.9, beta_2=0.999, epsilon=1e-08), loss='mean_absolute_error')"
   ]
  },
  {
   "cell_type": "markdown",
   "metadata": {
    "application/vnd.databricks.v1+cell": {
     "inputWidgets": {},
     "nuid": "997dcc39-4c0f-463b-9808-4c0092b4c8eb",
     "showTitle": false,
     "title": ""
    },
    "colab_type": "text",
    "id": "BbmGgJJr0X4q"
   },
   "source": [
    "Train Model"
   ]
  },
  {
   "cell_type": "code",
   "execution_count": null,
   "metadata": {
    "application/vnd.databricks.v1+cell": {
     "inputWidgets": {},
     "nuid": "86dbc224-05c5-4794-b747-5f6b8fe7a66e",
     "showTitle": false,
     "title": ""
    },
    "colab": {
     "base_uri": "https://localhost:8080/",
     "height": 1000
    },
    "colab_type": "code",
    "id": "ADzFmLmhHGrh",
    "outputId": "5cc30f4c-0efa-48bc-a1f3-1ffb5220f66e"
   },
   "outputs": [],
   "source": [
    "model.fit(x=train_dataset, y=soh.to_numpy(), batch_size=25, epochs=50)"
   ]
  },
  {
   "cell_type": "markdown",
   "metadata": {
    "application/vnd.databricks.v1+cell": {
     "inputWidgets": {},
     "nuid": "e50cc82a-a4be-468a-a472-530df49059b5",
     "showTitle": false,
     "title": ""
    },
    "colab_type": "text",
    "id": "QT_A23ve0gZa"
   },
   "source": [
    "## Test Model SoH Prediction\n",
    "B0006"
   ]
  },
  {
   "cell_type": "code",
   "execution_count": null,
   "metadata": {
    "application/vnd.databricks.v1+cell": {
     "inputWidgets": {},
     "nuid": "a86201ec-2cb7-4325-8fc6-433a7ba67c82",
     "showTitle": false,
     "title": ""
    },
    "colab": {
     "base_uri": "https://localhost:8080/",
     "height": 395
    },
    "colab_type": "code",
    "id": "fnEI3HwkKEHr",
    "outputId": "42ec40ca-9bdd-48fb-e9a3-1f013d2e48c1"
   },
   "outputs": [],
   "source": [
    "dataset_val, capacity_val = load_data('B0006')\n",
    "attrib=['cycle', 'date_time', 'capacity']\n",
    "dis_ele = capacity_val[attrib]\n",
    "C = dis_ele['capacity'][0]\n",
    "for i in range(len(dis_ele)):\n",
    "    dis_ele['SOH']=(dis_ele['capacity']) / C\n",
    "print(dataset_val.head(5))\n",
    "print(dis_ele.head(5))"
   ]
  },
  {
   "cell_type": "code",
   "execution_count": null,
   "metadata": {
    "application/vnd.databricks.v1+cell": {
     "inputWidgets": {},
     "nuid": "a2f70b42-75c2-48be-b05d-a83be41a3d19",
     "showTitle": false,
     "title": ""
    },
    "colab": {
     "base_uri": "https://localhost:8080/",
     "height": 251
    },
    "colab_type": "code",
    "id": "3gnWnehzKumj",
    "outputId": "76323a5e-c233-45d7-94a9-4f460612c4a7"
   },
   "outputs": [],
   "source": [
    "attrib=['capacity', 'voltage_measured', 'current_measured',\n",
    "        'temperature_measured', 'current_load', 'voltage_load', 'time']\n",
    "soh_pred = model.predict(sc.fit_transform(dataset_val[attrib]))\n",
    "print(soh_pred.shape)\n",
    "\n",
    "C = dataset_val['capacity'][0]\n",
    "soh = []\n",
    "for i in range(len(dataset_val)):\n",
    "  soh.append(dataset_val['capacity'][i] / C)\n",
    "new_soh = dataset_val.loc[(dataset_val['cycle'] >= 1), ['cycle']]\n",
    "new_soh['SOH'] =  soh\n",
    "new_soh['NewSOH'] = soh_pred\n",
    "new_soh = new_soh.groupby(['cycle']).mean().reset_index()\n",
    "print(new_soh.head(10))\n",
    "rms = np.sqrt(mean_squared_error(new_soh['SOH'], new_soh['NewSOH']))\n",
    "print('Root Mean Square Error: ', rms)"
   ]
  },
  {
   "cell_type": "code",
   "execution_count": null,
   "metadata": {
    "application/vnd.databricks.v1+cell": {
     "inputWidgets": {},
     "nuid": "d03b7670-84ab-4bb4-a4d3-f681553f8543",
     "showTitle": false,
     "title": ""
    },
    "colab": {
     "base_uri": "https://localhost:8080/",
     "height": 639
    },
    "colab_type": "code",
    "id": "Obmj4beTqbQB",
    "outputId": "4757b4ce-b7c9-4f3b-bf61-380b547f4ed6"
   },
   "outputs": [],
   "source": [
    "plot_df = new_soh.loc[(new_soh['cycle']>=1),['cycle','SOH', 'NewSOH']]\n",
    "sns.set_style(\"white\")\n",
    "plt.figure(figsize=(16, 10))\n",
    "plt.plot(plot_df['cycle'], plot_df['SOH'], label='SOH')\n",
    "plt.plot(plot_df['cycle'], plot_df['NewSOH'], label='Predicted SOH')\n",
    "#Draw threshold\n",
    "#plt.plot([0.,len(capacity)], [0.70, 0.70], label='Threshold')\n",
    "plt.ylabel('SOH')\n",
    "# make x-axis ticks legible\n",
    "adf = plt.gca().get_xaxis().get_major_formatter()\n",
    "plt.xlabel('cycle')\n",
    "plt.legend()\n",
    "plt.title('Discharge B0006')"
   ]
  },
  {
   "cell_type": "code",
   "execution_count": null,
   "metadata": {
    "application/vnd.databricks.v1+cell": {
     "inputWidgets": {},
     "nuid": "0eb988ff-18ce-4551-b4e1-dafc946e674c",
     "showTitle": false,
     "title": ""
    },
    "colab": {
     "base_uri": "https://localhost:8080/",
     "height": 53
    },
    "colab_type": "code",
    "id": "xsEpwnfYRBRP",
    "outputId": "1893c0bc-b7d6-4300-ca7e-b355da6ec52f"
   },
   "outputs": [],
   "source": [
    "dataset_val, capacity_val = load_data('B0005')\n",
    "attrib=['cycle', 'date_time', 'capacity']\n",
    "dis_ele = capacity_val[attrib]\n",
    "rows=['cycle','capacity']\n",
    "dataset=dis_ele[rows]\n",
    "data_train=dataset[(dataset['cycle']<50)]\n",
    "data_set_train=data_train.iloc[:,1:2].values\n",
    "data_test=dataset[(dataset['cycle']>=50)]\n",
    "data_set_test=data_test.iloc[:,1:2].values\n",
    "\n",
    "sc=MinMaxScaler(feature_range=(0,1))\n",
    "data_set_train=sc.fit_transform(data_set_train)\n",
    "data_set_test=sc.transform(data_set_test)\n",
    "\n",
    "X_train=[]\n",
    "y_train=[]\n",
    "#take the last 10t to predict 10t+1\n",
    "for i in range(10,49):\n",
    "    X_train.append(data_set_train[i-10:i,0])\n",
    "    y_train.append(data_set_train[i,0])\n",
    "X_train,y_train=np.array(X_train),np.array(y_train)\n",
    " \n",
    "X_train=np.reshape(X_train,(X_train.shape[0],X_train.shape[1],1))"
   ]
  },
  {
   "cell_type": "code",
   "execution_count": null,
   "metadata": {
    "application/vnd.databricks.v1+cell": {
     "inputWidgets": {},
     "nuid": "b35d0dbe-6f04-408c-befc-be7308748995",
     "showTitle": false,
     "title": ""
    },
    "colab": {
     "base_uri": "https://localhost:8080/",
     "height": 485
    },
    "colab_type": "code",
    "id": "dlR7qNNjOTbE",
    "outputId": "0b5448a9-1cdb-4ddf-bcb4-3958eb94db54"
   },
   "outputs": [],
   "source": [
    "regress = Sequential()\n",
    "regress.add(LSTM(units=200, return_sequences=True, input_shape=(X_train.shape[1],1)))\n",
    "regress.add(Dropout(0.3))\n",
    "regress.add(LSTM(units=200, return_sequences=True))\n",
    "regress.add(Dropout(0.3))\n",
    "regress.add(LSTM(units=200, return_sequences=True))\n",
    "regress.add(Dropout(0.3))\n",
    "regress.add(LSTM(units=200))\n",
    "regress.add(Dropout(0.3))\n",
    "regress.add(Dense(units=1))\n",
    "regress.compile(optimizer='adam',loss='mean_squared_error')\n",
    "regress.summary()"
   ]
  },
  {
   "cell_type": "code",
   "execution_count": null,
   "metadata": {
    "application/vnd.databricks.v1+cell": {
     "inputWidgets": {},
     "nuid": "69086cb5-db7b-43b6-92e7-9f6960eb6bd4",
     "showTitle": false,
     "title": ""
    },
    "colab": {
     "base_uri": "https://localhost:8080/",
     "height": 1000
    },
    "colab_type": "code",
    "id": "fZjhdSUNSuXC",
    "outputId": "39b6a8e7-9e9b-4239-8d1e-5519f7b16087"
   },
   "outputs": [],
   "source": [
    "regress.fit(X_train,y_train,epochs=200,batch_size=25)"
   ]
  },
  {
   "cell_type": "code",
   "execution_count": null,
   "metadata": {
    "application/vnd.databricks.v1+cell": {
     "inputWidgets": {},
     "nuid": "c07b28ab-3b4e-42ec-8ab2-18b1e5565f85",
     "showTitle": false,
     "title": ""
    },
    "colab": {
     "base_uri": "https://localhost:8080/",
     "height": 35
    },
    "colab_type": "code",
    "id": "B368JWquTqfE",
    "outputId": "73327204-ba7f-48b3-f4e7-eed4e0b7b5ed"
   },
   "outputs": [],
   "source": [
    "print(len(data_test))\n",
    "data_total=pd.concat((data_train['capacity'], data_test['capacity']),axis=0)\n",
    "inputs=data_total[len(data_total)-len(data_test)-10:].values\n",
    "inputs=inputs.reshape(-1,1)\n",
    "inputs=sc.transform(inputs)"
   ]
  },
  {
   "cell_type": "code",
   "execution_count": null,
   "metadata": {
    "application/vnd.databricks.v1+cell": {
     "inputWidgets": {},
     "nuid": "f9b5ff51-7605-4d4b-9ca3-1160094908c5",
     "showTitle": false,
     "title": ""
    },
    "colab": {
     "base_uri": "https://localhost:8080/",
     "height": 71
    },
    "colab_type": "code",
    "id": "hzjs6g9NU7g2",
    "outputId": "65f18c09-583a-40a2-8be9-73ff933eb091"
   },
   "outputs": [],
   "source": [
    "X_test=[]\n",
    "for i in range(10,129):\n",
    "    X_test.append(inputs[i-10:i,0])\n",
    "X_test=np.array(X_test)\n",
    "X_test=np.reshape(X_test,(X_test.shape[0],X_test.shape[1],1))\n",
    "pred=regress.predict(X_test)\n",
    "print(pred.shape)\n",
    "pred=sc.inverse_transform(pred)\n",
    "pred=pred[:,0]\n",
    "tests=data_test.iloc[:,1:2]\n",
    "rmse = np.sqrt(mean_squared_error(tests, pred))\n",
    "print('Test RMSE: %.3f' % rmse)\n",
    "metrics.r2_score(tests,pred)"
   ]
  },
  {
   "cell_type": "code",
   "execution_count": null,
   "metadata": {
    "application/vnd.databricks.v1+cell": {
     "inputWidgets": {},
     "nuid": "f816ca60-03e6-416e-b894-004ec0ff06ed",
     "showTitle": false,
     "title": ""
    },
    "colab": {
     "base_uri": "https://localhost:8080/",
     "height": 747
    },
    "colab_type": "code",
    "id": "FX6kJsXNbDhV",
    "outputId": "c366432a-2629-48d4-aea4-4fb666ca0013"
   },
   "outputs": [],
   "source": [
    "ln = len(data_train)\n",
    "data_test['pre']=pred\n",
    "plot_df = dataset.loc[(dataset['cycle']>=1),['cycle','capacity']]\n",
    "plot_per = data_test.loc[(data_test['cycle']>=ln),['cycle','pre']]\n",
    "plt.figure(figsize=(16, 10))\n",
    "plt.plot(plot_df['cycle'], plot_df['capacity'], label=\"Actual data\", color='blue')\n",
    "plt.plot(plot_per['cycle'],plot_per['pre'],label=\"Prediction data\", color='red')\n",
    "#Draw threshold\n",
    "plt.plot([0.,168], [1.38, 1.38],dashes=[6, 2], label=\"treshold\")\n",
    "plt.ylabel('Capacity')\n",
    "# make x-axis ticks legible\n",
    "adf = plt.gca().get_xaxis().get_major_formatter()\n",
    "plt.xlabel('cycle')\n",
    "plt.legend()\n",
    "plt.title('file=B0005 | type=discharge -RULe=-8, window-size=10')"
   ]
  },
  {
   "cell_type": "code",
   "execution_count": null,
   "metadata": {
    "application/vnd.databricks.v1+cell": {
     "inputWidgets": {},
     "nuid": "07d59ac7-f5d1-4192-859b-ede9be22e42e",
     "showTitle": false,
     "title": ""
    },
    "colab": {
     "base_uri": "https://localhost:8080/",
     "height": 71
    },
    "colab_type": "code",
    "id": "94E_HiQsvyPS",
    "outputId": "c4498e84-2ca4-4032-bcd3-fa7ff64c0629"
   },
   "outputs": [],
   "source": [
    "pred=0\n",
    "Afil=0\n",
    "Pfil=0\n",
    "a=data_test['capacity'].values\n",
    "b=data_test['pre'].values\n",
    "j=0\n",
    "k=0\n",
    "for i in range(len(a)):\n",
    "    actual=a[i]\n",
    "    \n",
    "    if actual<=1.38:\n",
    "        j=i\n",
    "        Afil=j\n",
    "        break\n",
    "for i in range(len(a)):\n",
    "    pred=b[i]\n",
    "    if pred< 1.38:\n",
    "        k=i\n",
    "        Pfil=k\n",
    "        break\n",
    "print(\"Actual Fail at Cycle Number: \"+ str(Afil+ln))\n",
    "print(\"Prediction Fail at Cycle Number: \"+ str(Pfil+ln))\n",
    "RULerror=Pfil-Afil\n",
    "print(\"Error of RUL= \"+ str(RULerror)+ \" Cycles\")"
   ]
  }
 ],
 "metadata": {
  "accelerator": "GPU",
  "application/vnd.databricks.v1+notebook": {
   "dashboards": [],
   "language": "python",
   "notebookMetadata": {
    "pythonIndentUnit": 2
   },
   "notebookName": "#LSTM_Based_SOH_Prediction_v0.1",
   "notebookOrigID": 1493499110605499,
   "widgets": {}
  },
  "colab": {
   "collapsed_sections": [],
   "include_colab_link": true,
   "name": "Battery.ipynb",
   "provenance": [],
   "toc_visible": true
  },
  "kernelspec": {
   "display_name": "Python 3 (ipykernel)",
   "language": "python",
   "name": "python3"
  },
  "language_info": {
   "codemirror_mode": {
    "name": "ipython",
    "version": 3
   },
   "file_extension": ".py",
   "mimetype": "text/x-python",
   "name": "python",
   "nbconvert_exporter": "python",
   "pygments_lexer": "ipython3",
   "version": "3.7.1"
  }
 },
 "nbformat": 4,
 "nbformat_minor": 1
}
